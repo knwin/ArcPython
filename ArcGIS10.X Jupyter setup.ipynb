{
 "cells": [
  {
   "cell_type": "markdown",
   "metadata": {},
   "source": [
    "# How to setup Jupyter for Arcgis 10.x"
   ]
  },
  {
   "cell_type": "markdown",
   "metadata": {},
   "source": [
    "+ open cmd.exe as adminstrator\n",
    " + cd python27\\arcgis10.7\n",
    " + python -m pip install virtualenv\n",
    " + python -m virtualenv venv\\jupyter\n",
    " + cd venv\\jyputer\n",
    " + python -m pip install jupyter\n",
    " + python -m pip install jupyter-lab\n",
    " + install any module you want to install here"
   ]
  },
  {
   "cell_type": "markdown",
   "metadata": {},
   "source": [
    "## link to Arcpy and numpy modules\n",
    "\n",
    "Although you have installed jupyter, you cannot import arcpy module yet. Do following steps\n",
    "\n",
    "(ref: https:\\\\notesfromthelifeboat.com\\post\\arcpy-virtualenv\\)\n",
    "\n",
    "open cmd.exe as adminstrator\n",
    "+ cd c:\\Python27\\ArcGIS10.7\n",
    "+ mkdir arcpy_includes\n",
    "+ cd arcpy_includes\n",
    "+ copyp c:\\Python27\\ArcGIS10.7\\Lib\\site-packages\\Desktop10.7.pth  OR _you can just copy from windows explorer_\n",
    "+ mklink\\D numpy c:\\Python27\\ArcGIS10.7\\Lib\\site-packages\\numpy \n"
   ]
  },
  {
   "cell_type": "markdown",
   "metadata": {},
   "source": [
    "## Prepare for Jupyter lab\n",
    "+ copy C:\\Python27\\ArcGIS10.7\\venv\\jupyter\\Scripts\\activate.bat as jupyterlab_activate.bat\n",
    "+ edit jupyterlab_activate.bat\n",
    "  + add _jupyter-lab.exe_ at the end of file\n",
    "\n",
    "## Create a widnows short cut for Jupyter lab\n",
    "+ create a shortcut by right click over jupyterlab_lab.bat file and select shortcut to desktop\n",
    "+ open properties of the _short cut_\n",
    "  + add path for home folder for jupyter notebooks in _\"Start in\"_\n",
    "  + e.g C:\\WingPy_scripts\\jupyter_notebooks\\ArcGIS"
   ]
  },
  {
   "cell_type": "markdown",
   "metadata": {},
   "source": [
    "Now you double click the short cut and juputer lab will open\n",
    "\n",
    "type __import arcpy__\n",
    "\n",
    "if no error, you are ready for ArcGIS on Jupyter environment"
   ]
  },
  {
   "cell_type": "code",
   "execution_count": null,
   "metadata": {},
   "outputs": [],
   "source": []
  }
 ],
 "metadata": {
  "kernelspec": {
   "display_name": "Python 2",
   "language": "python",
   "name": "python2"
  },
  "language_info": {
   "codemirror_mode": {
    "name": "ipython",
    "version": 2
   },
   "file_extension": ".py",
   "mimetype": "text/x-python",
   "name": "python",
   "nbconvert_exporter": "python",
   "pygments_lexer": "ipython2",
   "version": "2.7.15"
  }
 },
 "nbformat": 4,
 "nbformat_minor": 2
}
